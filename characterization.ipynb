{
 "cells": [
  {
   "cell_type": "code",
   "execution_count": null,
   "metadata": {},
   "outputs": [],
   "source": [
    "import pickle\n",
    "import json"
   ]
  },
  {
   "cell_type": "markdown",
   "metadata": {},
   "source": [
    "# IBM tables"
   ]
  },
  {
   "cell_type": "code",
   "execution_count": null,
   "metadata": {},
   "outputs": [],
   "source": [
    "with open('ibmq_mumbai_properties_14_04_23.pkl', 'rb') as fp:\n",
    "    data = pickle.load(fp)"
   ]
  },
  {
   "cell_type": "code",
   "execution_count": null,
   "metadata": {},
   "outputs": [],
   "source": [
    "data.keys()"
   ]
  },
  {
   "cell_type": "code",
   "execution_count": null,
   "metadata": {},
   "outputs": [],
   "source": [
    "q = 0\n",
    "for item in data[\"qubits\"]:\n",
    "    print(f\"{q} & $\\SI{{{item[0]['value']:.4}}}{{\\micro\\second}}$ & $\\SI{{{item[1]['value']:.4}}}{{\\micro\\second}}$ & \", end=\"\")\n",
    "    print(f\"$\\SI{{{item[2]['value']:.4}}}{{\\giga\\hertz}}$ & $\\SI{{{item[3]['value']:.4}}}{{\\giga\\hertz}}$ & \", end=\"\")\n",
    "    print(f\"{item[4]['value']:.4} & {item[5]['value']:.4} & {item[6]['value']:.4} & \", end=\"\")        \n",
    "    print(f\"$\\SI{{{item[7]['value']:.5}}}{{\\\\nano\\second}}$\")\n",
    "    q += 1"
   ]
  },
  {
   "cell_type": "code",
   "execution_count": null,
   "metadata": {},
   "outputs": [],
   "source": [
    "i = 0\n",
    "for g in data[\"gates\"]:\n",
    "    if g['gate'] == 'rz':\n",
    "        name = \"$R_Z$\"\n",
    "    elif g['gate'] == 'id':\n",
    "        name = \"$I$\"\n",
    "    elif g['gate'] == 'x':\n",
    "        name = \"$X$\"\n",
    "    elif g['gate'] == 'cx':\n",
    "        name = \"CNOT\"\n",
    "    elif g['gate'] == 'sx':\n",
    "        name = \"$\\sqrt{X}$\"\n",
    "    elif g['gate'] == 'reset':\n",
    "        name = \"RESET\"\n",
    "    else:\n",
    "        raise ValueError(\"Gate not recognised\")\n",
    "\n",
    "    if name == \"RESET\":\n",
    "        print(f\"{g['qubits'][0]} & {name} & $\\SI{{{(g['parameters'][0]['value']/1.0):.4}}}{{\\\\nano\\second}}$ \\\\\\\\\")\n",
    "    elif name == \"CNOT\":\n",
    "        print(f\"{g['qubits'][0]},{g['qubits'][1]} & {name} & {(g['parameters'][0]['value']/1.0):.4} & $\\SI{{{(g['parameters'][1]['value']/1.0):.4}}}{{\\\\nano\\second}}$ \\\\\\\\\")\n",
    "    else:\n",
    "        print(f\"{g['qubits'][0]} & {name} & {(g['parameters'][0]['value']/1.0):.4} & $\\SI{{{(g['parameters'][1]['value']/1.0):.4}}}{{\\\\nano\\second}}$ \\\\\\\\\")\n",
    "    i += 1"
   ]
  },
  {
   "cell_type": "code",
   "execution_count": null,
   "metadata": {},
   "outputs": [],
   "source": [
    "data[\"general\"]"
   ]
  },
  {
   "cell_type": "markdown",
   "metadata": {},
   "source": [
    "# IonQ"
   ]
  },
  {
   "cell_type": "code",
   "execution_count": null,
   "metadata": {},
   "outputs": [],
   "source": [
    "with open(\"ionq-11q-characterization_2023-07-26.json\", \"r\") as fp:\n",
    "    data = json.load(fp)"
   ]
  },
  {
   "cell_type": "code",
   "execution_count": null,
   "metadata": {},
   "outputs": [],
   "source": [
    "data"
   ]
  },
  {
   "cell_type": "code",
   "execution_count": null,
   "metadata": {},
   "outputs": [],
   "source": [
    "with open(\"ionq-11q-characterization_2023-08-15.json\", \"r\") as fp:\n",
    "    data = json.load(fp)"
   ]
  },
  {
   "cell_type": "code",
   "execution_count": null,
   "metadata": {},
   "outputs": [],
   "source": [
    "data"
   ]
  }
 ],
 "metadata": {
  "kernelspec": {
   "display_name": "venv",
   "language": "python",
   "name": "python3"
  },
  "language_info": {
   "codemirror_mode": {
    "name": "ipython",
    "version": 3
   },
   "file_extension": ".py",
   "mimetype": "text/x-python",
   "name": "python",
   "nbconvert_exporter": "python",
   "pygments_lexer": "ipython3",
   "version": "3.10.2"
  },
  "orig_nbformat": 4
 },
 "nbformat": 4,
 "nbformat_minor": 2
}
