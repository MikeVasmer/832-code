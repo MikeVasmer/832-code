{
 "cells": [
  {
   "cell_type": "code",
   "execution_count": null,
   "id": "dae66cb9-bacc-417c-9d5d-a5060adeeede",
   "metadata": {
    "tags": []
   },
   "outputs": [],
   "source": [
    "import matplotlib.pyplot as plt\n",
    "import matplotlib as mpl\n",
    "import pandas as pd\n",
    "import itertools"
   ]
  },
  {
   "cell_type": "markdown",
   "id": "4f9e8703-b834-47d8-9c61-9d19f3733a10",
   "metadata": {},
   "source": [
    "# Setup"
   ]
  },
  {
   "cell_type": "code",
   "execution_count": null,
   "id": "b00b7db3-5ab4-4643-8530-48ec6c9d2cb3",
   "metadata": {
    "tags": []
   },
   "outputs": [],
   "source": [
    "plt.rcParams['text.usetex'] = True\n",
    "\n",
    "colors = {\n",
    "    'blue':    '#377eb8', \n",
    "    'orange':  '#ff7f00',\n",
    "    'green':   '#4daf4a',\n",
    "    'pink':    '#f781bf',\n",
    "    'brown':   '#a65628',\n",
    "    'purple':  '#984ea3',\n",
    "    'gray':    '#999999',\n",
    "    'red':     '#e41a1c',\n",
    "    'yellow':  '#dede00'\n",
    "} "
   ]
  },
  {
   "cell_type": "code",
   "execution_count": null,
   "id": "b36a328f-5bb4-4d0e-a667-b3f9e75ee848",
   "metadata": {
    "tags": []
   },
   "outputs": [],
   "source": [
    "def all_gates_plot(qpu, date, sp, meas, df, encf=False, enc=False, first_bit='0', title='', legend_loc='best'):\n",
    "    bits = ['0', '1']\n",
    "    gates = [''.join(x) for x in itertools.product(bits, repeat=4) if x[0] == first_bit]\n",
    "    df = df[(df['state-prep'] == sp) & (df['readout'] == meas) & (df['qpu'] == qpu) & (df['date'] == date)]\n",
    "    mpl.rcParams.update({'font.size': 15})\n",
    "    mpl.rcParams[\"figure.figsize\"] = (17,3)\n",
    "    for g in gates:\n",
    "        plt.errorbar('gate', 'distance', yerr='error', data=df[(df['encoding'] == 'bare') & (df['gate'] == g)],\n",
    "                     fmt='o', label='bare' if g[1:] == '000' else '_nolegend_', capsize=4, color=colors['blue'])\n",
    "        if encf:\n",
    "            if enc:\n",
    "                label = 'encoded w/ flags'\n",
    "                color = 'green'\n",
    "            else:\n",
    "                label = 'encoded'\n",
    "                color = 'orange'\n",
    "            plt.errorbar('gate', 'distance', yerr='error', data=df[(df['encoding'] == '[[8,3,2]] flag') & (df['gate'] == g)],\n",
    "                         fmt='o', label=label if g[1:] == '000' else '_nolegend_', capsize=4, color=colors[color])\n",
    "        if enc:\n",
    "            plt.errorbar('gate', 'distance', yerr='error', data=df[(df['encoding'] == '[[8,3,2]]') & (df['gate'] == g)],\n",
    "                         fmt='o', label='encoded' if g[1:] == '000' else '_nolegend_', capsize=4, color=colors['orange'])\n",
    "    plt.xlabel('Gate')\n",
    "    plt.ylabel('Statistical distance')\n",
    "    if title != '':\n",
    "        plt.title(title)\n",
    "    plt.ylim([-.05,0.37])\n",
    "    ax = plt.gca()\n",
    "    ax.grid(axis='y')\n",
    "    ax.legend(loc=legend_loc)\n",
    "    if first_bit == '0':\n",
    "        tick_labels = [\n",
    "            'I', '$\\mathrm{CZ}_{12}$', '$\\mathrm{CZ}_{13}$', '$\\mathrm{CZ}_{12}\\mathrm{CZ}_{13}$',\n",
    "            '$\\mathrm{CZ}_{23}$', '$\\mathrm{CZ}_{12}\\mathrm{CZ}_{23}$', '$\\mathrm{CZ}_{13}\\mathrm{CZ}_{23}$', '$\\mathrm{CZ}_{12}\\mathrm{CZ}_{13}\\mathrm{CZ}_{23}$',\n",
    "        ]\n",
    "    elif first_bit == '1':\n",
    "            tick_labels = [\n",
    "            '$\\mathrm{CCZ}$', '$\\mathrm{CZ}_{12}\\mathrm{CCZ}$', '$\\mathrm{CZ}_{13}\\mathrm{CCZ}$', '$\\mathrm{CZ}_{12}\\mathrm{CZ}_{13}\\mathrm{CCZ}$',\n",
    "            '$\\mathrm{CZ}_{23}\\mathrm{CCZ}$', '$\\mathrm{CZ}_{12}\\mathrm{CZ}_{23}\\mathrm{CCZ}$', '$\\mathrm{CZ}_{13}\\mathrm{CZ}_{23}\\mathrm{CCZ}$', '$\\mathrm{CZ}_{12}\\mathrm{CZ}_{13}\\mathrm{CZ}_{23}\\mathrm{CCZ}$',\n",
    "        ]\n",
    "    ax.xaxis.set_ticks(range(len(tick_labels)))\n",
    "    ax.set_xticklabels(tick_labels)\n",
    "    fig = plt.gcf()\n",
    "    return fig"
   ]
  },
  {
   "cell_type": "code",
   "execution_count": null,
   "id": "08683b4e-d18e-42f8-81e3-11d0b4a79fab",
   "metadata": {
    "tags": []
   },
   "outputs": [],
   "source": [
    "df_all = pd.read_csv(\"results.csv\", dtype=object)"
   ]
  },
  {
   "cell_type": "code",
   "execution_count": null,
   "id": "d3df1baa-a289-4cd7-af67-cbb95300a962",
   "metadata": {
    "tags": []
   },
   "outputs": [],
   "source": [
    "df_all[[\"distance\", \"error\"]] = df_all[[\"distance\", \"error\"]].apply(pd.to_numeric)"
   ]
  },
  {
   "cell_type": "markdown",
   "id": "fd824b72-7080-4d09-90e9-c722699dedd8",
   "metadata": {},
   "source": [
    "# Plots"
   ]
  },
  {
   "cell_type": "markdown",
   "id": "e03464bc-cb03-4c1b-9c61-b3a4e1993f1d",
   "metadata": {},
   "source": [
    "## X basis figure, +++"
   ]
  },
  {
   "cell_type": "code",
   "execution_count": null,
   "id": "0e9882cc-6fff-452a-bad8-4636fdabfd53",
   "metadata": {
    "tags": []
   },
   "outputs": [],
   "source": [
    "fig = all_gates_plot('ionq-11q', '2023-08-17', '+++', 'x', df_all, encf=True, first_bit='0',\n",
    "              title=r'ionq-11q, $|+++\\rangle$ state preparation, $X$ basis measurement')\n",
    "fig.savefig('X-+++-a.pdf', bbox_inches='tight')"
   ]
  },
  {
   "cell_type": "code",
   "execution_count": null,
   "id": "060722d2-59ca-4c80-ae54-e791ecb5c8c1",
   "metadata": {
    "tags": []
   },
   "outputs": [],
   "source": [
    "fig = all_gates_plot('ionq-11q', '2023-08-17', '+++', 'x', df_all, encf=True, first_bit='1',\n",
    "              title='')\n",
    "fig.savefig('X-+++-b.pdf', bbox_inches='tight')"
   ]
  },
  {
   "cell_type": "markdown",
   "id": "b642b83e-e142-48bc-bf29-e76397ab8937",
   "metadata": {},
   "source": [
    "## Z basis figure, +++"
   ]
  },
  {
   "cell_type": "code",
   "execution_count": null,
   "id": "d9f7c6bb-ade6-4b18-999b-4a84f1d85cae",
   "metadata": {
    "tags": []
   },
   "outputs": [],
   "source": [
    "fig = all_gates_plot('ionq-11q', '2023-08-17', '+++', 'z', df_all, encf=True, first_bit='0',\n",
    "              title=r'ionq-11q, $|+++\\rangle$ state preparation, $Z$ basis measurement')\n",
    "fig.savefig('Z-+++-a.pdf', bbox_inches='tight')"
   ]
  },
  {
   "cell_type": "code",
   "execution_count": null,
   "id": "5f1f5104-046b-4e2a-8220-a23d32c8f3fe",
   "metadata": {
    "tags": []
   },
   "outputs": [],
   "source": [
    "fig = all_gates_plot('ionq-11q', '2023-08-17', '+++', 'z', df_all, encf=True, first_bit='1',\n",
    "              title='')\n",
    "fig.savefig('Z-+++-b.pdf', bbox_inches='tight')"
   ]
  },
  {
   "cell_type": "markdown",
   "id": "2c22077b-ffe6-46d8-9174-7193aa7cf4d5",
   "metadata": {},
   "source": [
    "## X basis figure, GHZ"
   ]
  },
  {
   "cell_type": "code",
   "execution_count": null,
   "id": "e797182b-a3c2-41e1-a68a-8d85910c44c4",
   "metadata": {
    "tags": []
   },
   "outputs": [],
   "source": [
    "fig = all_gates_plot('ionq-11q', '2023-07-26', 'ghz', 'x', df_all, enc=True, first_bit='0',\n",
    "              title=r'ionq-11q, $|\\mathrm{GHZ}\\rangle$ state preparation, $X$ basis measurement')\n",
    "fig.savefig('X-ghz-a.pdf', bbox_inches='tight')"
   ]
  },
  {
   "cell_type": "code",
   "execution_count": null,
   "id": "3f3eff59-935d-4888-89b5-2e1770d492a4",
   "metadata": {
    "tags": []
   },
   "outputs": [],
   "source": [
    "fig = all_gates_plot('ionq-11q', '2023-07-26', 'ghz', 'x', df_all, enc=True, first_bit='1')\n",
    "fig.savefig('X-ghz-b.pdf', bbox_inches='tight')"
   ]
  },
  {
   "cell_type": "code",
   "execution_count": null,
   "id": "56c5afd7-2c7f-4904-8d8e-f10931c9d47f",
   "metadata": {
    "tags": []
   },
   "outputs": [],
   "source": [
    "fig = all_gates_plot('ibmq_mumbai', '2023-04-14', 'ghz', 'x', df_all, enc=True, first_bit='0',\n",
    "              title=r'ibmq-mumbai, $|\\mathrm{GHZ}\\rangle$ state preparation, $X$ basis measurement',\n",
    "              legend_loc='upper left')\n",
    "fig.savefig('X-ghz-c.pdf', bbox_inches='tight')"
   ]
  },
  {
   "cell_type": "code",
   "execution_count": null,
   "id": "ea7ec621-ce4c-4ca8-bcd3-6068320e4b58",
   "metadata": {
    "tags": []
   },
   "outputs": [],
   "source": [
    "fig = all_gates_plot('ibmq_mumbai', '2023-04-14', 'ghz', 'x', df_all, enc=True, first_bit='1',\n",
    "              legend_loc='center right')\n",
    "fig.savefig('X-ghz-d.pdf', bbox_inches='tight')"
   ]
  },
  {
   "cell_type": "markdown",
   "id": "5d47d790-7d9c-4cdc-a8ed-6c8194987cb0",
   "metadata": {
    "tags": []
   },
   "source": [
    "### Z basis figure, GHZ"
   ]
  },
  {
   "cell_type": "code",
   "execution_count": null,
   "id": "c21d197f-d5ec-450c-ad11-0159bf7f5064",
   "metadata": {
    "tags": []
   },
   "outputs": [],
   "source": [
    "fig = all_gates_plot('ionq-11q', '2023-07-26', 'ghz', 'z', df_all, enc=True, first_bit='0',\n",
    "              title=r'ionq-11q, $|\\mathrm{GHZ}\\rangle$ state preparation, $Z$ basis measurement')\n",
    "fig.savefig('Z-ghz-a.pdf', bbox_inches='tight')"
   ]
  },
  {
   "cell_type": "code",
   "execution_count": null,
   "id": "afd4e83a-666a-45b1-b1c4-2443c0e37e0f",
   "metadata": {
    "tags": []
   },
   "outputs": [],
   "source": [
    "fig = all_gates_plot('ionq-11q', '2023-07-26', 'ghz', 'z', df_all, enc=True, first_bit='1',)\n",
    "fig.savefig('Z-ghz-b.pdf', bbox_inches='tight')"
   ]
  },
  {
   "cell_type": "code",
   "execution_count": null,
   "id": "626bf7e9-a226-4c03-80b6-5e0929bb34b4",
   "metadata": {
    "tags": []
   },
   "outputs": [],
   "source": [
    "fig = all_gates_plot('ibmq_mumbai', '2023-04-14', 'ghz', 'z', df_all, enc=True, first_bit='0',\n",
    "              title=r'ibmq-mumbai, $|\\mathrm{GHZ}\\rangle$ state preparation, $Z$ basis measurement')\n",
    "fig.savefig('Z-ghz-c.pdf', bbox_inches='tight')"
   ]
  },
  {
   "cell_type": "code",
   "execution_count": null,
   "id": "0e084dc1-a157-43be-8676-02cc199fb6f5",
   "metadata": {
    "tags": []
   },
   "outputs": [],
   "source": [
    "fig = all_gates_plot('ibmq_mumbai', '2023-04-14', 'ghz', 'z', df_all, enc=True, first_bit='1',)\n",
    "fig.savefig('Z-ghz-d.pdf', bbox_inches='tight')"
   ]
  },
  {
   "cell_type": "markdown",
   "id": "12062a70-116d-4bc5-bc67-1bf06d2f703c",
   "metadata": {},
   "source": [
    "# Post-selection tables"
   ]
  },
  {
   "cell_type": "code",
   "execution_count": null,
   "id": "c97a6887-575b-4db1-948b-45c08fa4d780",
   "metadata": {
    "tags": []
   },
   "outputs": [],
   "source": [
    "df = df_all"
   ]
  },
  {
   "cell_type": "code",
   "execution_count": null,
   "id": "0523fdbb-25a2-4e48-bd06-f2e10178124e",
   "metadata": {
    "tags": []
   },
   "outputs": [],
   "source": [
    "df_chop = df[(df['state-prep'] == '+++') & \n",
    "        # (df['readout'] == 'x') & \n",
    "        (df['qpu'] == 'ionq-11q') & \n",
    "        (df['date'] == '2023-08-17') &\n",
    "        (df['encoding'] == '[[8,3,2]] flag')]\n",
    "\n",
    "ps = []\n",
    "\n",
    "for index, row in df_chop.iterrows():\n",
    "    ps += [float(row['post-select'])]\n",
    "    g = \"\"\n",
    "    if row['gate'] == '0000':\n",
    "        g = \"I\"\n",
    "    if row['gate'][3] == '1':\n",
    "        g += 'CZ_{12}'\n",
    "    if row['gate'][2] == '1':\n",
    "        g += 'CZ_{13}'\n",
    "    if row['gate'][1] == '1':\n",
    "        g += 'CZ_{23}'\n",
    "    if row['gate'][0] == '1':\n",
    "        g += 'CCZ'\n",
    "    g = \"$\" + g + \"$\"\n",
    "    print(f\"$\\ket{{+++}}$ & {g} & ${row['readout'].upper()}$ basis & ionq-11q & {float(row['post-select'])*100:.0f}\\% \\\\\\\\\")\n",
    "\n",
    "print(sum(ps) / len(ps))"
   ]
  },
  {
   "cell_type": "code",
   "execution_count": null,
   "id": "87529135-40d7-4759-a3f0-1bfee3114220",
   "metadata": {
    "tags": []
   },
   "outputs": [],
   "source": [
    "df_chop = df[(df['state-prep'] == 'ghz') & \n",
    "        # (df['readout'] == 'x') & \n",
    "        (df['qpu'] == 'ionq-11q') & \n",
    "        (df['date'] == '2023-07-26') &\n",
    "        (df['encoding'] == '[[8,3,2]]')]\n",
    "\n",
    "ps = []\n",
    "\n",
    "for index, row in df_chop.iterrows():\n",
    "    ps += [float(row['post-select'])]\n",
    "    g = \"\"\n",
    "    if row['gate'] == '0000':\n",
    "        g = \"I\"\n",
    "    if row['gate'][3] == '1':\n",
    "        g += 'CZ_{12}'\n",
    "    if row['gate'][2] == '1':\n",
    "        g += 'CZ_{13}'\n",
    "    if row['gate'][1] == '1':\n",
    "        g += 'CZ_{23}'\n",
    "    if row['gate'][0] == '1':\n",
    "        g += 'CCZ'\n",
    "    g = \"$\" + g + \"$\"\n",
    "    print(f\"$\\ket{{\\mathrm{{GHZ}}}}$ & {g} & ${row['readout'].upper()}$ basis & ionq-11q & {float(row['post-select'])*100:.0f}\\% \\\\\\\\\")\n",
    "\n",
    "print(sum(ps) / len(ps))"
   ]
  },
  {
   "cell_type": "code",
   "execution_count": null,
   "id": "429a9c12-479e-4ab7-82ca-b3d154eca4b7",
   "metadata": {
    "tags": []
   },
   "outputs": [],
   "source": [
    "df_chop = df[(df['state-prep'] == 'ghz') & \n",
    "        # (df['readout'] == 'x') & \n",
    "        (df['qpu'] == 'ibmq_mumbai') & \n",
    "        (df['date'] == '2023-04-14') &\n",
    "        (df['encoding'] == '[[8,3,2]]')]\n",
    "\n",
    "ps = []\n",
    "\n",
    "for index, row in df_chop.iterrows():\n",
    "    ps += [float(row['post-select'])]\n",
    "    g = \"\"\n",
    "    if row['gate'] == '0000':\n",
    "        g = \"I\"\n",
    "    if row['gate'][3] == '1':\n",
    "        g += 'CZ_{12}'\n",
    "    if row['gate'][2] == '1':\n",
    "        g += 'CZ_{13}'\n",
    "    if row['gate'][1] == '1':\n",
    "        g += 'CZ_{23}'\n",
    "    if row['gate'][0] == '1':\n",
    "        g += 'CCZ'\n",
    "    g = \"$\" + g + \"$\"\n",
    "    print(f\"$\\ket{{\\mathrm{{GHZ}}}}$ & {g} & ${row['readout'].upper()}$ basis & imbq-mumbai & {float(row['post-select'])*100:.0f}\\% \\\\\\\\\")\n",
    "\n",
    "print(sum(ps) / len(ps))"
   ]
  }
 ],
 "metadata": {
  "kernelspec": {
   "display_name": "Python 3 (ipykernel)",
   "language": "python",
   "name": "python3"
  },
  "language_info": {
   "codemirror_mode": {
    "name": "ipython",
    "version": 3
   },
   "file_extension": ".py",
   "mimetype": "text/x-python",
   "name": "python",
   "nbconvert_exporter": "python",
   "pygments_lexer": "ipython3",
   "version": "3.10.2"
  }
 },
 "nbformat": 4,
 "nbformat_minor": 5
}
